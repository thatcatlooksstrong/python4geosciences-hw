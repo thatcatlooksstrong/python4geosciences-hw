{
 "cells": [
  {
   "cell_type": "code",
   "execution_count": 2,
   "metadata": {
    "collapsed": false
   },
   "outputs": [
    {
     "data": {
      "text/plain": [
       "array([ 0.,  0.,  0.,  0.,  1.,  0.,  0.,  0.,  0.,  0.])"
      ]
     },
     "execution_count": 2,
     "metadata": {},
     "output_type": "execute_result"
    }
   ],
   "source": [
    "# Create a vector of zeros of size 10 but have the fifth value be 1.\n",
    "import numpy as np\n",
    "z = np.zeros(10)\n",
    "z[4] = 1\n",
    "z"
   ]
  },
  {
   "cell_type": "code",
   "execution_count": 3,
   "metadata": {
    "collapsed": false
   },
   "outputs": [
    {
     "data": {
      "text/plain": [
       "array([10, 11, 12, 13, 14, 15, 16, 17, 18, 19, 20, 21, 22, 23, 24, 25, 26,\n",
       "       27, 28, 29, 30, 31, 32, 33, 34, 35, 36, 37, 38, 39, 40, 41, 42, 43,\n",
       "       44, 45, 46, 47, 48, 49])"
      ]
     },
     "execution_count": 3,
     "metadata": {},
     "output_type": "execute_result"
    }
   ],
   "source": [
    "# Create a vector with values ranging from 10 to 49, inclusive.\n",
    "beep = np.arange(10,50,1)\n",
    "beep"
   ]
  },
  {
   "cell_type": "code",
   "execution_count": 67,
   "metadata": {
    "collapsed": false
   },
   "outputs": [
    {
     "data": {
      "text/plain": [
       "array([49, 48, 47, 46, 45, 44, 43, 42, 41, 40, 39, 38, 37, 36, 35, 34, 33,\n",
       "       32, 31, 30, 29, 28, 27, 26, 25, 24, 23, 22, 21, 20, 19, 18, 17, 16,\n",
       "       15, 14, 13, 12, 11, 10])"
      ]
     },
     "execution_count": 67,
     "metadata": {},
     "output_type": "execute_result"
    }
   ],
   "source": [
    "# Write a function, reverse(x) which reverses a vector, so that the first element becomes the last element.\n",
    "def reversearray(arr):\n",
    "    \"return a 1D vector with the elements reversed \\n Input: \\n x: 1D array \\n Output: \\n res: 1D array, with the elements of `x` reversed\"\n",
    "    return arr[::-1]\n",
    "\n",
    "reversearray(beep)"
   ]
  },
  {
   "cell_type": "code",
   "execution_count": 5,
   "metadata": {
    "collapsed": false
   },
   "outputs": [
    {
     "data": {
      "text/plain": [
       "array([0, 1, 4])"
      ]
     },
     "execution_count": 5,
     "metadata": {},
     "output_type": "execute_result"
    }
   ],
   "source": [
    "# Write a function find_nonzero(x) that finds the indices of non-zero elements\n",
    "#### how to do it for rows and columns?\n",
    "\n",
    "test = [1,2,0,0,4,0]\n",
    "test1 = np.array(test)\n",
    "\n",
    "def find_nonzero(x):\n",
    "    values = list()\n",
    "    size = 1\n",
    "    xflat = x.flatten()\n",
    "    for dim in np.shape(x): size *= dim\n",
    "    for i in range (0,size,1):\n",
    "        if xflat[i] == 0:\n",
    "            continue\n",
    "        if xflat[i] > 0 or xflat[i] < 0:\n",
    "            values.append(i)\n",
    "    index = np.array(values)\n",
    "    return index\n",
    "\n",
    "find_nonzero(test1)"
   ]
  },
  {
   "cell_type": "code",
   "execution_count": null,
   "metadata": {
    "collapsed": false
   },
   "outputs": [],
   "source": []
  },
  {
   "cell_type": "code",
   "execution_count": 6,
   "metadata": {
    "collapsed": false
   },
   "outputs": [
    {
     "data": {
      "text/plain": [
       "array([[-0.91076202,  0.55657692,  0.87184228],\n",
       "       [-0.26492313,  0.12354973,  0.61517846],\n",
       "       [ 0.96650216,  1.07773364,  1.24671886]])"
      ]
     },
     "execution_count": 6,
     "metadata": {},
     "output_type": "execute_result"
    }
   ],
   "source": [
    "# Create a 3x3x3 array with normally distributed (μ=0,σ=1) random values.\n",
    "\n",
    "norm = np.random.normal(loc=0.0, scale=1.0, size=9)\n",
    "normblock = norm.reshape(3,3)\n",
    "normblock"
   ]
  },
  {
   "cell_type": "code",
   "execution_count": 7,
   "metadata": {
    "collapsed": false,
    "scrolled": true
   },
   "outputs": [
    {
     "name": "stdout",
     "output_type": "stream",
     "text": [
      "0.115090471288\n",
      "0.947296746967\n"
     ]
    }
   ],
   "source": [
    "#### Create a 10x10 array with random values. Find the minimum value of the 2nd row and the maximum value of the 4th column\n",
    "arr = np.random.rand(10,10)\n",
    "\n",
    "print(arr.min(axis=1)[1]) ### minimum of 2nd row\n",
    "print(arr.max(axis=0)[3]) ### maximum of 4th column"
   ]
  },
  {
   "cell_type": "code",
   "execution_count": 68,
   "metadata": {
    "collapsed": false
   },
   "outputs": [
    {
     "name": "stdout",
     "output_type": "stream",
     "text": [
      "[ 0.09090909  0.18181818  0.27272727  0.36363636  0.45454545  0.54545455\n",
      "  0.63636364  0.72727273  0.81818182  0.90909091]\n"
     ]
    }
   ],
   "source": [
    "# Create a vector of size 10 with values ranging from 0 to 1, both excluded.\n",
    "uwu = np.arange(0,1,1/11)\n",
    "ugu = uwu[1:11]\n",
    "print(ugu)"
   ]
  },
  {
   "cell_type": "code",
   "execution_count": 9,
   "metadata": {
    "collapsed": false
   },
   "outputs": [
    {
     "data": {
      "text/plain": [
       "array([ 0.09752454,  0.19610913,  0.23624302,  0.25947239,  0.71106529,\n",
       "        0.82806944,  0.85041497,  0.85991535,  0.86473522,  0.91590253])"
      ]
     },
     "execution_count": 9,
     "metadata": {},
     "output_type": "execute_result"
    }
   ],
   "source": [
    "# Create a random vector of size 10, then sort it.\n",
    "\n",
    "tens = np.random.rand(10)\n",
    "tens.sort()\n",
    "tens\n"
   ]
  },
  {
   "cell_type": "code",
   "execution_count": 59,
   "metadata": {
    "collapsed": false
   },
   "outputs": [
    {
     "data": {
      "text/plain": [
       "True"
      ]
     },
     "execution_count": 59,
     "metadata": {},
     "output_type": "execute_result"
    }
   ],
   "source": [
    "# Write a function is_equal(A, B) that compare two arrays A and B and checks to see if they are equal.\n",
    "\n",
    "def is_equal(A,B):\n",
    "    if A.shape == B.shape:\n",
    "        return True\n",
    "    else:\n",
    "        return False"
   ]
  },
  {
   "cell_type": "code",
   "execution_count": 71,
   "metadata": {
    "collapsed": false
   },
   "outputs": [
    {
     "name": "stdout",
     "output_type": "stream",
     "text": [
      "[[-0.02430833 -0.52591649 -0.63506617 -0.3391533  -0.51213495]\n",
      " [-0.11640075  0.35214993 -0.09358372  0.18484308 -0.01814254]\n",
      " [ 0.54110063  0.35434837 -0.30965122  0.25366286 -0.04357579]\n",
      " [ 0.84647354  0.13500595  0.05600028  0.0261169  -0.22872554]\n",
      " [ 0.42511825 -0.04992103  0.05034155 -0.08719754 -0.24138397]]\n"
     ]
    }
   ],
   "source": [
    "## Subtract the row mean from rows of a matrix\n",
    "\n",
    "a = np.random.rand(5,5)\n",
    "amean = a.mean(axis=1)\n",
    "\n",
    "print(a - amean)"
   ]
  },
  {
   "cell_type": "code",
   "execution_count": 78,
   "metadata": {
    "collapsed": false
   },
   "outputs": [
    {
     "name": "stdout",
     "output_type": "stream",
     "text": [
      "[[[  2.55268920e-01   2.46865791e-01   2.57078596e-01]\n",
      "  [  4.91628070e-01   1.45824475e-02   5.87549019e-01]\n",
      "  [  4.18838440e-02   1.29084768e-01   1.87373322e-01]\n",
      "  [  1.92072755e-01   3.77909982e-01   3.66182450e-01]\n",
      "  [  7.23376919e-03   2.95527765e-03   1.78045814e-02]]\n",
      "\n",
      " [[  1.00763041e-02   5.97988441e-02   5.46718135e-03]\n",
      "  [  3.77572509e-01   7.97825739e-01   1.67550906e-01]\n",
      "  [  1.85864393e-02   2.16156946e-01   5.83565350e-02]\n",
      "  [  2.78428330e-01   1.92022146e-01   1.87395458e-01]\n",
      "  [  2.05256217e-01   1.46988627e-01   3.17443223e-01]]\n",
      "\n",
      " [[  2.41494562e-01   4.45895784e-01   5.34666175e-01]\n",
      "  [  2.97021983e-01   4.04769818e-01   5.76821150e-02]\n",
      "  [  1.69388373e-01   3.43308121e-02   1.72885304e-01]\n",
      "  [  2.28140890e-02   3.40904138e-01   3.61100218e-01]\n",
      "  [  2.05725194e-01   2.39507166e-01   2.99187508e-01]]\n",
      "\n",
      " [[  4.68059700e-01   9.79041078e-02   3.94176763e-01]\n",
      "  [  4.91630604e-04   1.14161955e-03   7.40803171e-05]\n",
      "  [  2.41419048e-01   9.19117581e-01   8.04894934e-01]\n",
      "  [  7.88013830e-02   1.91277972e-01   2.10784068e-01]\n",
      "  [  3.27599833e-01   7.29374269e-03   4.65460789e-02]]\n",
      "\n",
      " [[  3.99413886e-02   1.40139140e-01   2.70707165e-01]\n",
      "  [  1.81531530e-01   3.22594168e-01   2.23846986e-01]\n",
      "  [  2.24345513e-02   8.69844380e-03   7.33627606e-03]\n",
      "  [  7.36875277e-01   4.12147240e-01   4.11689303e-01]\n",
      "  [  5.35281970e-01   6.10209781e-02   1.61782839e-01]]]\n"
     ]
    },
    {
     "data": {
      "text/plain": [
       "array([[[ 1.86535546,  1.80395032,  0.3757159 ],\n",
       "        [ 3.30189481,  0.0979393 ,  0.78922469],\n",
       "        [ 1.09380078,  3.37106164,  0.97865461],\n",
       "        [ 1.42904821,  2.81170322,  0.54488975],\n",
       "        [ 0.88111024,  0.359968  ,  0.43373789]],\n",
       "\n",
       "       [[ 0.1139242 ,  0.67609468,  0.01236255],\n",
       "        [ 2.04446269,  4.32003104,  0.18144943],\n",
       "        [ 0.42149588,  4.90192124,  0.26467726],\n",
       "        [ 4.07744787,  2.8120712 ,  0.54886312],\n",
       "        [ 1.87191191,  1.34051853,  0.57900877]],\n",
       "\n",
       "       [[ 1.42235959,  2.62624608,  0.62981755],\n",
       "        [ 3.25425459,  4.43476952,  0.12639623],\n",
       "        [ 1.85391377,  0.37574223,  0.37843736],\n",
       "        [ 0.21725011,  3.24630369,  0.68772469],\n",
       "        [ 2.35045194,  2.7364178 ,  0.68365555]],\n",
       "\n",
       "       [[ 3.34279938,  0.69921378,  0.56302811],\n",
       "        [ 2.11549028,  4.91239774,  0.06375364],\n",
       "        [ 1.30633518,  4.97340886,  0.87106844],\n",
       "        [ 1.64836182,  4.00113924,  0.88183328],\n",
       "        [ 2.06958141,  0.04607754,  0.0588101 ]],\n",
       "\n",
       "       [[ 0.66683045,  2.3396544 ,  0.90390338],\n",
       "        [ 1.26521944,  2.24838303,  0.31202905],\n",
       "        [ 4.46376627,  1.73071525,  0.29193739],\n",
       "        [ 4.10964801,  2.29859806,  0.45920882],\n",
       "        [ 4.98454904,  0.56822773,  0.30130456]]])"
      ]
     },
     "execution_count": 78,
     "metadata": {},
     "output_type": "execute_result"
    }
   ],
   "source": [
    "## Multiply arrays\n",
    "\n",
    "a = np.random.rand(5,5,3)\n",
    "b = np.random.rand(5,5)\n",
    "c = np.random.rand(3,5,5)\n",
    "\n",
    "## Multiply an array of dimension (5,5,3) with an array with dimensions (5,5). \n",
    "\n",
    "print(a*b[:,:,np.newaxis])\n",
    "\n",
    "## Then multiply an array of dimension (3,5,5) with an array of dimension (5,5).\n",
    "print(c*b)"
   ]
  },
  {
   "cell_type": "code",
   "execution_count": null,
   "metadata": {
    "collapsed": false
   },
   "outputs": [],
   "source": []
  },
  {
   "cell_type": "code",
   "execution_count": 45,
   "metadata": {
    "collapsed": false
   },
   "outputs": [
    {
     "data": {
      "text/plain": [
       "array([[ 1,  2,  3,  4],\n",
       "       [ 2,  3,  4,  5],\n",
       "       [ 3,  4,  5,  6],\n",
       "       [ 4,  5,  6,  7],\n",
       "       [ 5,  6,  7,  8],\n",
       "       [ 6,  7,  8,  9],\n",
       "       [ 7,  8,  9, 10],\n",
       "       [ 8,  9, 10, 11],\n",
       "       [ 9, 10, 11, 12],\n",
       "       [10, 11, 12, 13],\n",
       "       [11, 12, 13, 14]])"
      ]
     },
     "execution_count": 45,
     "metadata": {},
     "output_type": "execute_result"
    }
   ],
   "source": [
    "## Creating a new array\n",
    "Z = np.arange(1,15,1)\n",
    "\n",
    "R = np.arange(44).reshape(11,4)\n",
    "\n",
    "for i in range(0,11,1):\n",
    "    k=0\n",
    "    karly = np.zeros(11)\n",
    "    karly = Z[k+i:k+4+i]\n",
    "    R[i,:]=karly\n",
    "    \n",
    "R"
   ]
  },
  {
   "cell_type": "code",
   "execution_count": 152,
   "metadata": {
    "collapsed": false
   },
   "outputs": [
    {
     "data": {
      "text/plain": [
       "array([[ 6.40312424,  0.89605538],\n",
       "       [ 8.54400375,  0.35877067]])"
      ]
     },
     "execution_count": 152,
     "metadata": {},
     "output_type": "execute_result"
    }
   ],
   "source": [
    "## Write a function cart2polar(xy) which takes in an Nx2 matrix of x, y pairs representing Cartesian coordinates and return the locations represented in polar coordinates in the same shape matrix.\n",
    "\n",
    "yz = np.array([4.,5.,8.,3.]).reshape(2,2)\n",
    "\n",
    "\n",
    "def cart2polar(xy):\n",
    "    \"Return equivalent polar coordinates of specified cartesian points. \\nInputs:\\nxy: array\\nNx2 array of Cartesian coordinates, with columns x and y respectively.\\n Returns: \\n rp: array \\n Nx2 array of polar coordinates, with columns radius and angle respectively\"\n",
    "    rp = np.zeros_like(xy)\n",
    "    r = np.sqrt([xy[0,0]**2 + xy[0,1]**2,xy[1,0]**2 + xy[1,1]**2])\n",
    "    theta = np.arctan([xy[0,1]/xy[0,0],xy[1,1]/xy[1,0]])\n",
    "    rp[:,0] = r\n",
    "    rp[:,1] = theta\n",
    "    return rp\n",
    "\n",
    "cart2polar(yz)"
   ]
  },
  {
   "cell_type": "code",
   "execution_count": 153,
   "metadata": {
    "collapsed": false
   },
   "outputs": [
    {
     "name": "stdout",
     "output_type": "stream",
     "text": [
      "The slowest run took 483.48 times longer than the fastest. This could mean that an intermediate result is being cached \n",
      "100000 loops, best of 3: 4.98 µs per loop\n"
     ]
    }
   ],
   "source": [
    "%timeit np.arange(1024.0).reshape(4, 8, 16, 2)\n"
   ]
  },
  {
   "cell_type": "code",
   "execution_count": 105,
   "metadata": {
    "collapsed": false
   },
   "outputs": [
    {
     "data": {
      "text/plain": [
       "array([ 6.,  8.])"
      ]
     },
     "execution_count": 105,
     "metadata": {},
     "output_type": "execute_result"
    }
   ],
   "source": [
    "%timeit b = np.random.rand(4, 8, 16, 2)"
   ]
  },
  {
   "cell_type": "code",
   "execution_count": 106,
   "metadata": {
    "collapsed": false
   },
   "outputs": [
    {
     "data": {
      "text/plain": [
       "array([ 6.40312424,  8.54400375])"
      ]
     },
     "execution_count": 106,
     "metadata": {},
     "output_type": "execute_result"
    }
   ],
   "source": [
    "%timeit sol = a * b"
   ]
  },
  {
   "cell_type": "code",
   "execution_count": 161,
   "metadata": {
    "collapsed": false
   },
   "outputs": [],
   "source": [
    "for i in range(0,1025,256):\n",
    "    fours = list()\n",
    "    fours.append(float(i))\n",
    "    fours.array "
   ]
  },
  {
   "cell_type": "code",
   "execution_count": 176,
   "metadata": {
    "collapsed": false
   },
   "outputs": [
    {
     "ename": "ValueError",
     "evalue": "operands could not be broadcast together with shapes (3,2) (2,2) ",
     "output_type": "error",
     "traceback": [
      "\u001b[0;31m---------------------------------------------------------------------------\u001b[0m",
      "\u001b[0;31mValueError\u001b[0m                                Traceback (most recent call last)",
      "\u001b[0;32m<ipython-input-176-70af8e5c43cf>\u001b[0m in \u001b[0;36m<module>\u001b[0;34m()\u001b[0m\n\u001b[1;32m     22\u001b[0m \u001b[0ma\u001b[0m \u001b[0;34m=\u001b[0m \u001b[0mnp\u001b[0m\u001b[0;34m.\u001b[0m\u001b[0mones\u001b[0m\u001b[0;34m(\u001b[0m\u001b[0;34m(\u001b[0m\u001b[0;36m3\u001b[0m\u001b[0;34m,\u001b[0m \u001b[0;36m2\u001b[0m\u001b[0;34m)\u001b[0m\u001b[0;34m)\u001b[0m\u001b[0;34m\u001b[0m\u001b[0m\n\u001b[1;32m     23\u001b[0m \u001b[0mb\u001b[0m \u001b[0;34m=\u001b[0m \u001b[0mnp\u001b[0m\u001b[0;34m.\u001b[0m\u001b[0mones\u001b[0m\u001b[0;34m(\u001b[0m\u001b[0;36m3\u001b[0m\u001b[0;34m)\u001b[0m\u001b[0;34m*\u001b[0m\u001b[0;36m3\u001b[0m\u001b[0;34m\u001b[0m\u001b[0m\n\u001b[0;32m---> 24\u001b[0;31m \u001b[0mres\u001b[0m \u001b[0;34m=\u001b[0m \u001b[0mcalculate\u001b[0m\u001b[0;34m(\u001b[0m\u001b[0ma\u001b[0m\u001b[0;34m,\u001b[0m \u001b[0mb\u001b[0m\u001b[0;34m)\u001b[0m\u001b[0;34m\u001b[0m\u001b[0m\n\u001b[0m\u001b[1;32m     25\u001b[0m \u001b[0;34m\u001b[0m\u001b[0m\n\u001b[1;32m     26\u001b[0m \u001b[0;32massert\u001b[0m \u001b[0;34m(\u001b[0m\u001b[0mres\u001b[0m \u001b[0;34m==\u001b[0m \u001b[0mnp\u001b[0m\u001b[0;34m.\u001b[0m\u001b[0marray\u001b[0m\u001b[0;34m(\u001b[0m\u001b[0;34m[\u001b[0m\u001b[0;34m[\u001b[0m \u001b[0;36m2.25\u001b[0m\u001b[0;34m,\u001b[0m  \u001b[0;36m2.25\u001b[0m\u001b[0;34m]\u001b[0m\u001b[0;34m,\u001b[0m\u001b[0;34m[\u001b[0m \u001b[0;36m2.25\u001b[0m\u001b[0;34m,\u001b[0m  \u001b[0;36m2.25\u001b[0m\u001b[0;34m]\u001b[0m\u001b[0;34m,\u001b[0m\u001b[0;34m[\u001b[0m \u001b[0;36m3.\u001b[0m\u001b[0;34m,\u001b[0m \u001b[0;36m3.\u001b[0m\u001b[0;34m]\u001b[0m\u001b[0;34m]\u001b[0m\u001b[0;34m)\u001b[0m\u001b[0;34m)\u001b[0m\u001b[0;34m.\u001b[0m\u001b[0mall\u001b[0m\u001b[0;34m(\u001b[0m\u001b[0;34m)\u001b[0m\u001b[0;34m\u001b[0m\u001b[0m\n",
      "\u001b[0;32m<ipython-input-176-70af8e5c43cf>\u001b[0m in \u001b[0;36mcalculate\u001b[0;34m(a, b)\u001b[0m\n\u001b[1;32m     16\u001b[0m     \u001b[0mmyint\u001b[0m \u001b[0;34m=\u001b[0m \u001b[0;36m4\u001b[0m  \u001b[0;31m## myint for operations\u001b[0m\u001b[0;34m\u001b[0m\u001b[0m\n\u001b[1;32m     17\u001b[0m     \u001b[0mac\u001b[0m \u001b[0;34m=\u001b[0m \u001b[0maa\u001b[0m\u001b[0;34m/\u001b[0m\u001b[0mmyint\u001b[0m \u001b[0;31m## created array ac that is 1/4 of the value of aa\u001b[0m\u001b[0;34m\u001b[0m\u001b[0m\n\u001b[0;32m---> 18\u001b[0;31m     \u001b[0mad\u001b[0m \u001b[0;34m=\u001b[0m \u001b[0ma\u001b[0m \u001b[0;34m-\u001b[0m \u001b[0mac\u001b[0m \u001b[0;31m### changed this line so that the subtracting 1/4 operation works, condensed\u001b[0m\u001b[0;34m\u001b[0m\u001b[0m\n\u001b[0m\u001b[1;32m     19\u001b[0m     \u001b[0;32mreturn\u001b[0m \u001b[0mad\u001b[0m\u001b[0;34m*\u001b[0m\u001b[0mb\u001b[0m\u001b[0;34m.\u001b[0m\u001b[0mreshape\u001b[0m\u001b[0;34m(\u001b[0m\u001b[0;36m1\u001b[0m\u001b[0;34m,\u001b[0m\u001b[0;36m3\u001b[0m\u001b[0;34m)\u001b[0m   \u001b[0;31m### changed what the function returns\u001b[0m\u001b[0;34m\u001b[0m\u001b[0m\n\u001b[1;32m     20\u001b[0m \u001b[0;34m\u001b[0m\u001b[0m\n",
      "\u001b[0;31mValueError\u001b[0m: operands could not be broadcast together with shapes (3,2) (2,2) "
     ]
    }
   ],
   "source": [
    "def calculate(a, b):\n",
    "    \"\"\"Do some calculations\n",
    "    \n",
    "    Take in two arrays, subtract 1/4 of the [:2,:] elements from the elements themselves.\n",
    "    Then multiply with array b and return the result.\n",
    "    \n",
    "    Inputs:\n",
    "        a: input array, shape [MxN]\n",
    "        b: input array, shape [M]\n",
    "    \n",
    "    Returns:\n",
    "        resultant array\n",
    "    \"\"\"\n",
    "\n",
    "    aa = a[:2, :] ## created flattened array containing [:2,:] elements\n",
    "    myint = 4  ## myint for operations\n",
    "    ac = aa/myint ## created array ac that is 1/4 of the value of aa\n",
    "    ad = a - ac ### changed this line so that the subtracting 1/4 operation works, condensed\n",
    "    return ad*b.reshape(1,3)   ### changed what the function returns\n",
    "    \n",
    "\n",
    "a = np.ones((3, 2))\n",
    "b = np.ones(3)*3\n",
    "res = calculate(a, b)\n",
    "\n",
    "\n",
    "assert (res == np.array([[ 2.25,  2.25],[ 2.25,  2.25],[ 3., 3.]])).all()"
   ]
  },
  {
   "cell_type": "code",
   "execution_count": 190,
   "metadata": {
    "collapsed": false
   },
   "outputs": [
    {
     "data": {
      "text/plain": [
       "array([ 3.,  3.,  3.])"
      ]
     },
     "execution_count": 190,
     "metadata": {},
     "output_type": "execute_result"
    }
   ],
   "source": [
    "aa = a[:2, :] ## created flattened array containing [:2,:] elements\n",
    "myint = 4  ## myint for operations\n",
    "ac = aa/myint ## created array ac that is 1/4 of the value of aa\n",
    "a[:2, :] = aa - ac ### changed this line so that the subtracting 1/4 operation works, condensed\n",
    "\n"
   ]
  },
  {
   "cell_type": "code",
   "execution_count": null,
   "metadata": {
    "collapsed": true
   },
   "outputs": [],
   "source": []
  }
 ],
 "metadata": {
  "kernelspec": {
   "display_name": "Python 3",
   "language": "python",
   "name": "python3"
  },
  "language_info": {
   "codemirror_mode": {
    "name": "ipython",
    "version": 3
   },
   "file_extension": ".py",
   "mimetype": "text/x-python",
   "name": "python",
   "nbconvert_exporter": "python",
   "pygments_lexer": "ipython3",
   "version": "3.5.1"
  }
 },
 "nbformat": 4,
 "nbformat_minor": 0
}
