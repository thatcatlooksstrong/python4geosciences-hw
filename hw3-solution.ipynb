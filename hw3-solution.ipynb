{
 "cells": [
  {
   "cell_type": "code",
   "execution_count": 6,
   "metadata": {
    "collapsed": false
   },
   "outputs": [
    {
     "data": {
      "text/plain": [
       "array([ 0.,  0.,  0.,  0.,  1.,  0.,  0.,  0.,  0.,  0.])"
      ]
     },
     "execution_count": 6,
     "metadata": {},
     "output_type": "execute_result"
    }
   ],
   "source": [
    "# Create a vector of zeros of size 10 but have the fifth value be 1.\n",
    "import numpy as np\n",
    "z = np.zeros(10)\n",
    "z[4] = 1\n",
    "z"
   ]
  },
  {
   "cell_type": "code",
   "execution_count": 5,
   "metadata": {
    "collapsed": false
   },
   "outputs": [
    {
     "data": {
      "text/plain": [
       "array([10, 11, 12, 13, 14, 15, 16, 17, 18, 19, 20, 21, 22, 23, 24, 25, 26,\n",
       "       27, 28, 29, 30, 31, 32, 33, 34, 35, 36, 37, 38, 39, 40, 41, 42, 43,\n",
       "       44, 45, 46, 47, 48, 49])"
      ]
     },
     "execution_count": 5,
     "metadata": {},
     "output_type": "execute_result"
    }
   ],
   "source": [
    "# Create a vector with values ranging from 10 to 49, inclusive.\n",
    "beep = np.arange(10,50,1)\n",
    "beep"
   ]
  },
  {
   "cell_type": "code",
   "execution_count": 8,
   "metadata": {
    "collapsed": false
   },
   "outputs": [
    {
     "data": {
      "text/plain": [
       "array([49, 48, 47, 46, 45, 44, 43, 42, 41, 40, 39, 38, 37, 36, 35, 34, 33,\n",
       "       32, 31, 30, 29, 28, 27, 26, 25, 24, 23, 22, 21, 20, 19, 18, 17, 16,\n",
       "       15, 14, 13, 12, 11, 10])"
      ]
     },
     "execution_count": 8,
     "metadata": {},
     "output_type": "execute_result"
    }
   ],
   "source": [
    "# Write a function, reverse(x) which reverses a vector, so that the first element becomes the last element.\n",
    "def reversearray(arr):\n",
    "    return arr[::-1]\n",
    "\n",
    "reversearray(beep)"
   ]
  },
  {
   "cell_type": "code",
   "execution_count": 46,
   "metadata": {
    "collapsed": false
   },
   "outputs": [
    {
     "data": {
      "text/plain": [
       "array([0, 1, 4])"
      ]
     },
     "execution_count": 46,
     "metadata": {},
     "output_type": "execute_result"
    }
   ],
   "source": [
    "# Write a function find_nonzero(x) that finds the indices of non-zero elements\n",
    "#### how to do it for rows and columns?\n",
    "\n",
    "test = [1,2,0,0,4,0]\n",
    "test1 = np.array(test)\n",
    "\n",
    "def find_nonzero(x):\n",
    "    values = list()\n",
    "    size = 1\n",
    "    xflat = x.flatten()\n",
    "    for dim in np.shape(x): size *= dim\n",
    "    for i in range (0,size,1):\n",
    "        if xflat[i] == 0:\n",
    "            continue\n",
    "        if xflat[i] > 0 or xflat[i] < 0:\n",
    "            values.append(i)\n",
    "    index = np.array(values)\n",
    "    return index\n",
    "\n",
    "find_nonzero(test1)"
   ]
  },
  {
   "cell_type": "code",
   "execution_count": 41,
   "metadata": {
    "collapsed": false
   },
   "outputs": [
    {
     "data": {
      "text/plain": [
       "10"
      ]
     },
     "execution_count": 41,
     "metadata": {},
     "output_type": "execute_result"
    }
   ],
   "source": []
  },
  {
   "cell_type": "code",
   "execution_count": 49,
   "metadata": {
    "collapsed": false
   },
   "outputs": [
    {
     "data": {
      "text/plain": [
       "array([[ 0.18538923, -1.05260134, -1.56948459],\n",
       "       [-1.1353688 ,  0.17934741,  0.61044412],\n",
       "       [-0.16396704, -0.269221  ,  2.37335218]])"
      ]
     },
     "execution_count": 49,
     "metadata": {},
     "output_type": "execute_result"
    }
   ],
   "source": [
    "# Create a 3x3x3 array with normally distributed (μ=0,σ=1) random values.\n",
    "\n",
    "norm = np.random.normal(loc=0.0, scale=1.0, size=9)\n",
    "normblock = norm.reshape(3,3)\n",
    "normblock"
   ]
  },
  {
   "cell_type": "code",
   "execution_count": 83,
   "metadata": {
    "collapsed": false,
    "scrolled": false
   },
   "outputs": [
    {
     "name": "stdout",
     "output_type": "stream",
     "text": [
      "0.119498688254\n",
      "0.931430357095\n",
      "[[ 0.35524746  0.10391301  0.34417506  0.39695678  0.2789731   0.21053625\n",
      "   0.77763869  0.95597202  0.41603847  0.42844556]\n",
      " [ 0.58067809  0.61821165  0.80994339  0.29784805  0.90601371  0.76946712\n",
      "   0.11949869  0.6252359   0.78828142  0.13492152]\n",
      " [ 0.72696591  0.68778356  0.95298065  0.93143036  0.18869318  0.04653309\n",
      "   0.80311805  0.65057108  0.73143946  0.61393088]\n",
      " [ 0.23251151  0.620037    0.6058413   0.48628468  0.79210839  0.07858751\n",
      "   0.50757058  0.77422036  0.82184659  0.22634703]\n",
      " [ 0.49927346  0.30317543  0.69859683  0.25991007  0.75669244  0.16172608\n",
      "   0.77887141  0.79518627  0.29311228  0.09341342]\n",
      " [ 0.14738788  0.64452735  0.58582878  0.8781846   0.91195024  0.18382314\n",
      "   0.56782316  0.28407328  0.53123035  0.69803122]\n",
      " [ 0.46593712  0.90775907  0.41980824  0.10801865  0.5154923   0.16264846\n",
      "   0.2379609   0.02284248  0.19115761  0.71630201]\n",
      " [ 0.83640091  0.65952703  0.24329802  0.76420273  0.14702875  0.8738613\n",
      "   0.82379383  0.95675764  0.57846606  0.59786366]\n",
      " [ 0.88758713  0.0579425   0.79878896  0.55342223  0.33077645  0.58913679\n",
      "   0.65846975  0.57022522  0.26201554  0.19075544]\n",
      " [ 0.63730525  0.48015089  0.93251265  0.18433618  0.37903785  0.58652639\n",
      "   0.96338514  0.19006972  0.56790119  0.96721895]]\n"
     ]
    }
   ],
   "source": [
    "#### Create a 10x10 array with random values. Find the minimum value of the 2nd row and the maximum value of the 4th column\n",
    "arr = np.random.rand(10,10)\n",
    "\n",
    "print(arr.min(axis=1)[1]) ### minimum of 2nd row\n",
    "print(arr.max(axis=0)[3]) ### maximum of 4th column"
   ]
  },
  {
   "cell_type": "code",
   "execution_count": 94,
   "metadata": {
    "collapsed": false
   },
   "outputs": [
    {
     "data": {
      "text/plain": [
       "array([ 0.01 ,  0.109,  0.208,  0.307,  0.406,  0.505,  0.604,  0.703,\n",
       "        0.802,  0.901])"
      ]
     },
     "execution_count": 94,
     "metadata": {},
     "output_type": "execute_result"
    }
   ],
   "source": [
    "# Create a vector of size 10 with values ranging from 0 to 1, both excluded.\n",
    "uwu = np.linspace(0.01,1,endpoint=False,num=10)\n",
    "uwu"
   ]
  },
  {
   "cell_type": "code",
   "execution_count": 97,
   "metadata": {
    "collapsed": false
   },
   "outputs": [
    {
     "data": {
      "text/plain": [
       "array([ 0.03326036,  0.07056612,  0.11780207,  0.15856935,  0.31565592,\n",
       "        0.33055163,  0.6809892 ,  0.82767387,  0.93917088,  0.99799276])"
      ]
     },
     "execution_count": 97,
     "metadata": {},
     "output_type": "execute_result"
    }
   ],
   "source": [
    "# Create a random vector of size 10, then sort it.\n",
    "\n",
    "tens = np.random.rand(10)\n",
    "tens.sort()\n",
    "tens\n"
   ]
  },
  {
   "cell_type": "code",
   "execution_count": null,
   "metadata": {
    "collapsed": true
   },
   "outputs": [],
   "source": [
    "# Write a function is_equal(A, B) that compare two arrays A and B and checks to see if they are equal.\n",
    "\n",
    "def is_equal(A,B):\n",
    "    "
   ]
  }
 ],
 "metadata": {
  "kernelspec": {
   "display_name": "Python 3",
   "language": "python",
   "name": "python3"
  },
  "language_info": {
   "codemirror_mode": {
    "name": "ipython",
    "version": 3
   },
   "file_extension": ".py",
   "mimetype": "text/x-python",
   "name": "python",
   "nbconvert_exporter": "python",
   "pygments_lexer": "ipython3",
   "version": "3.5.1"
  }
 },
 "nbformat": 4,
 "nbformat_minor": 0
}
