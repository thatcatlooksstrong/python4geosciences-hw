{
 "cells": [
  {
   "cell_type": "code",
   "execution_count": 20,
   "metadata": {
    "collapsed": false
   },
   "outputs": [
    {
     "data": {
      "text/plain": [
       "['Trackpoint',\n",
       " 'N42 49.820 W70 45.415',\n",
       " '5/20/2006 1:35:10 PM ',\n",
       " '16 ft',\n",
       " '',\n",
       " '17 ft',\n",
       " '00:00:15',\n",
       " '0.76 mph',\n",
       " '200° true']"
      ]
     },
     "execution_count": 20,
     "metadata": {},
     "output_type": "execute_result"
    }
   ],
   "source": [
    "line = 'Trackpoint\tN42 49.820 W70 45.415\t5/20/2006 1:35:10 PM \t16 ft\t\t17 ft\t00:00:15\t0.76 mph\t200° true'\n",
    "line.isspace()\n",
    "binky = list()\n",
    "\n",
    "binky = line.split('\\t')\n",
    "\n",
    "binky"
   ]
  },
  {
   "cell_type": "code",
   "execution_count": 24,
   "metadata": {
    "collapsed": false
   },
   "outputs": [
    {
     "data": {
      "text/plain": [
       "'0.76 '"
      ]
     },
     "execution_count": 24,
     "metadata": {},
     "output_type": "execute_result"
    }
   ],
   "source": [
    "binky[7]\n",
    "binky[7][0:5]"
   ]
  },
  {
   "cell_type": "code",
   "execution_count": 31,
   "metadata": {
    "collapsed": false
   },
   "outputs": [
    {
     "data": {
      "text/plain": [
       "<filter at 0x104094160>"
      ]
     },
     "execution_count": 31,
     "metadata": {},
     "output_type": "execute_result"
    }
   ],
   "source": [
    "sentence = '0.76 mph'\n",
    "filter(lambda c: c in sentence.digits + '.', s)"
   ]
  }
 ],
 "metadata": {
  "kernelspec": {
   "display_name": "Python 3",
   "language": "python",
   "name": "python3"
  },
  "language_info": {
   "codemirror_mode": {
    "name": "ipython",
    "version": 3
   },
   "file_extension": ".py",
   "mimetype": "text/x-python",
   "name": "python",
   "nbconvert_exporter": "python",
   "pygments_lexer": "ipython3",
   "version": "3.5.1"
  }
 },
 "nbformat": 4,
 "nbformat_minor": 0
}
