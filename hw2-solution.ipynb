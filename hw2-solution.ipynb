{
 "cells": [
  {
   "cell_type": "code",
   "execution_count": 42,
   "metadata": {
    "collapsed": true
   },
   "outputs": [],
   "source": [
    "dict = {'Name': 'Kecen', 'Hometown': 'Sammamish', 'Department': 'Oceanography', 'Status': 'Graduate', 'Years at TAMU': '1/2', 'Reason for taking class': 'Get better in common programming language'}\n"
   ]
  },
  {
   "cell_type": "code",
   "execution_count": 2,
   "metadata": {
    "collapsed": false
   },
   "outputs": [
    {
     "name": "stdout",
     "output_type": "stream",
     "text": [
      "False\n",
      "True\n"
     ]
    }
   ],
   "source": [
    "def isVowel(char):\n",
    "    return False if 'aeiouAEIOU'.find(char) < 0 else True\n",
    "\n",
    "print(isVowel('y'))\n",
    "print(isVowel('a'))"
   ]
  },
  {
   "cell_type": "code",
   "execution_count": 68,
   "metadata": {
    "collapsed": false,
    "scrolled": true
   },
   "outputs": [
    {
     "name": "stdout",
     "output_type": "stream",
     "text": [
      "31\n"
     ]
    }
   ],
   "source": [
    "def length(phrase):\n",
    "    length=0\n",
    "    for c in phrase:\n",
    "        length+=1\n",
    "    return length\n",
    "\n",
    "print(length('Five cats for five Deutschmarks'))"
   ]
  },
  {
   "cell_type": "code",
   "execution_count": 18,
   "metadata": {
    "collapsed": false
   },
   "outputs": [
    {
     "name": "stdout",
     "output_type": "stream",
     "text": [
      "yenrug\n"
     ]
    }
   ],
   "source": [
    "def reverse(phrase):\n",
    "    return phrase[::-1]\n",
    "\n",
    "print(reverse('gurney'))"
   ]
  },
  {
   "cell_type": "code",
   "execution_count": 36,
   "metadata": {
    "collapsed": false
   },
   "outputs": [
    {
     "name": "stdout",
     "output_type": "stream",
     "text": [
      "True\n",
      "False\n"
     ]
    }
   ],
   "source": [
    "def is_palindrome(my_str):\n",
    "    letters = [c.casefold() for c in my_str if c.isalpha()]\n",
    "    return letters == letters[::-1]\n",
    "\n",
    "print(is_palindrome(\"Rats live on no evil star!\"))\n",
    "print(is_palindrome(\"Beam me up Scotty.\"))"
   ]
  },
  {
   "cell_type": "code",
   "execution_count": 63,
   "metadata": {
    "collapsed": false
   },
   "outputs": [],
   "source": [
    "openfile = open('saga_begins.txt',\"r\")\n",
    "out_file= open('lines.txt',\"w\")\n",
    "\n",
    "with open('saga_begins.txt', \"r\") as openfile:\n",
    "    with open('lines.txt', \"w\") as out_file:\n",
    "        n=0\n",
    "        for j, line in enumerate(openfile):\n",
    "            if line != '\\n':\n",
    "                n +=1\n",
    "                out_file.write('{0:<5}{1}'.format(n, line))\n",
    "            else:\n",
    "                out_file.write('\\n')\n"
   ]
  },
  {
   "cell_type": "code",
   "execution_count": 169,
   "metadata": {
    "collapsed": false,
    "scrolled": true
   },
   "outputs": [
    {
     "data": {
      "text/plain": [
       "[4, 5, 5, 3]"
      ]
     },
     "execution_count": 169,
     "metadata": {},
     "output_type": "execute_result"
    }
   ],
   "source": [
    "words = [ 'fire', 'water' , 'earth', 'air']\n",
    "values = list()\n",
    "\n",
    "def listofnumbers(words):\n",
    "    for n in range(length(words)):\n",
    "        length(words[n])\n",
    "        values.append(length(words[n]))    \n",
    "    return values\n",
    "listofnumbers(words)\n",
    "\n",
    " "
   ]
  },
  {
   "cell_type": "code",
   "execution_count": 166,
   "metadata": {
    "collapsed": false
   },
   "outputs": [
    {
     "data": {
      "text/plain": [
       "[4, 5, 5, 3]"
      ]
     },
     "execution_count": 166,
     "metadata": {},
     "output_type": "execute_result"
    }
   ],
   "source": [
    "words = [ 'fire', 'water' , 'earth', 'air']\n",
    "\n",
    "def listmap(words):\n",
    "    values = list(map(length, words))\n",
    "    return values\n",
    "\n",
    "listmap(words)"
   ]
  },
  {
   "cell_type": "code",
   "execution_count": 168,
   "metadata": {
    "collapsed": false
   },
   "outputs": [
    {
     "data": {
      "text/plain": [
       "[4, 5, 5, 3]"
      ]
     },
     "execution_count": 168,
     "metadata": {},
     "output_type": "execute_result"
    }
   ],
   "source": [
    "words = [ 'fire', 'water' , 'earth', 'air']\n",
    "\n",
    "def listcomp(words):\n",
    "    values = [length(word) for word in words]\n",
    "    return values\n",
    "\n",
    "listcomp(words)"
   ]
  },
  {
   "cell_type": "code",
   "execution_count": 22,
   "metadata": {
    "collapsed": false
   },
   "outputs": [
    {
     "name": "stdout",
     "output_type": "stream",
     "text": [
      "Caesar cipher? I much prefer Caesar salad!\n",
      "Arireraqvat fuevzc\n"
     ]
    }
   ],
   "source": [
    "rot13 = bytes.maketrans(\n",
    "    b\"abcdefghijklmnopqrstuvwxyzABCDEFGHIJKLMNOPQRSTUVWXYZ\",\n",
    "    b\"nopqrstuvwxyzabcdefghijklmNOPQRSTUVWXYZABCDEFGHIJKLM\")\n",
    "print('Pnrfne pvcure? V zhpu cersre Pnrfne fnynq!'.translate(rot13))\n",
    "print('Neverending shrimp'.translate(rot13))"
   ]
  },
  {
   "cell_type": "code",
   "execution_count": 179,
   "metadata": {
    "collapsed": false,
    "scrolled": false
   },
   "outputs": [
    {
     "name": "stdout",
     "output_type": "stream",
     "text": [
      "3 bottles of beer on the wall, 3 bottles of beer.\n",
      "Take one down, pass it around, 2 bottles of beer on the wall.\n",
      "\n",
      "2 bottles of beer on the wall, 2 bottles of beer.\n",
      "Take one down, pass it around, 1 bottles of beer on the wall.\n",
      "\n",
      "1 bottle of beer on the wall, 1 bottle of beer.\n",
      "Take one down, pass it around, 0 bottles of beer on the wall.\n",
      "\n"
     ]
    }
   ],
   "source": [
    "num=3\n",
    "## changed from numbottles, moved to beginning\n",
    "def words(num):\n",
    "    \"\"\"Returns words with proper number of beer bottles filled in.\"\"\"\n",
    "    if num > 1: # changed !=1 to > 1\n",
    "        return str(num) + ' bottles of beer on the wall, ' + str(num) + ' bottles of beer.\\n' + 'Take one down, pass it around, ' + str(num-1) + ' bottles of beer on the wall.\\n'\n",
    "    elif num == 1: ## changed = to ==\n",
    "        return str(num) + ' bottle of beer on the wall, ' + str(num) + ' bottle of beer.\\n' + 'Take one down, pass it around, ' + str(num-1) + ' bottles of beer on the wall.\\n'\n",
    "\n",
    "for i in range(num, 0, -1): ### changed square brackets to parentheses\n",
    "    print(words(i))"
   ]
  },
  {
   "cell_type": "code",
   "execution_count": 200,
   "metadata": {
    "collapsed": false
   },
   "outputs": [
    {
     "name": "stdout",
     "output_type": "stream",
     "text": [
      "[datetime.datetime(2006, 5, 20, 13, 34, 55), datetime.datetime(2006, 5, 20, 13, 35, 10), datetime.datetime(2006, 5, 20, 13, 35, 25), datetime.datetime(2006, 5, 20, 13, 35, 40), datetime.datetime(2006, 5, 20, 13, 35, 55), datetime.datetime(2006, 5, 20, 13, 36, 10), datetime.datetime(2006, 5, 20, 13, 36, 25), datetime.datetime(2006, 5, 20, 13, 36, 40), datetime.datetime(2006, 5, 20, 13, 36, 55), datetime.datetime(2006, 5, 20, 13, 37, 10), datetime.datetime(2006, 5, 20, 13, 37, 25), datetime.datetime(2006, 5, 20, 13, 37, 40), datetime.datetime(2006, 5, 20, 13, 37, 55), datetime.datetime(2006, 5, 20, 13, 38, 10), datetime.datetime(2006, 5, 20, 13, 38, 25), datetime.datetime(2006, 5, 20, 13, 38, 40), datetime.datetime(2006, 5, 20, 13, 38, 55), datetime.datetime(2006, 5, 20, 13, 39, 10), datetime.datetime(2006, 5, 20, 13, 39, 25), datetime.datetime(2006, 5, 20, 13, 39, 40), datetime.datetime(2006, 5, 20, 13, 39, 55), datetime.datetime(2006, 5, 20, 13, 40, 10), datetime.datetime(2006, 5, 20, 13, 40, 25), datetime.datetime(2006, 5, 20, 13, 40, 40), datetime.datetime(2006, 5, 20, 13, 40, 55), datetime.datetime(2006, 5, 20, 13, 41, 10), datetime.datetime(2006, 5, 20, 13, 41, 25), datetime.datetime(2006, 5, 20, 13, 41, 40), datetime.datetime(2006, 5, 20, 13, 41, 55), datetime.datetime(2006, 5, 20, 13, 42, 10), datetime.datetime(2006, 5, 20, 13, 42, 25), datetime.datetime(2006, 5, 20, 13, 42, 40), datetime.datetime(2006, 5, 20, 13, 42, 55), datetime.datetime(2006, 5, 20, 13, 43, 10), datetime.datetime(2006, 5, 20, 13, 43, 25), datetime.datetime(2006, 5, 20, 13, 43, 40), datetime.datetime(2006, 5, 20, 13, 43, 55), datetime.datetime(2006, 5, 20, 13, 44, 10), datetime.datetime(2006, 5, 20, 13, 44, 25), datetime.datetime(2006, 5, 20, 13, 44, 40), datetime.datetime(2006, 5, 20, 13, 44, 55), datetime.datetime(2006, 5, 20, 13, 45, 10), datetime.datetime(2006, 5, 20, 13, 45, 25), datetime.datetime(2006, 5, 20, 13, 45, 40), datetime.datetime(2006, 5, 20, 13, 45, 55), datetime.datetime(2006, 5, 20, 13, 46, 10), datetime.datetime(2006, 5, 20, 13, 46, 25), datetime.datetime(2006, 5, 20, 13, 46, 40), datetime.datetime(2006, 5, 20, 13, 46, 55), datetime.datetime(2006, 5, 20, 13, 47, 10), datetime.datetime(2006, 5, 20, 13, 47, 25), datetime.datetime(2006, 5, 20, 13, 47, 40), datetime.datetime(2006, 5, 20, 13, 47, 55), datetime.datetime(2006, 5, 20, 13, 48, 10), datetime.datetime(2006, 5, 20, 13, 48, 25), datetime.datetime(2006, 5, 20, 13, 48, 40), datetime.datetime(2006, 5, 20, 13, 48, 55), datetime.datetime(2006, 5, 20, 13, 49, 10), datetime.datetime(2006, 5, 20, 13, 49, 25), datetime.datetime(2006, 5, 20, 13, 49, 40), datetime.datetime(2006, 5, 20, 13, 49, 56), datetime.datetime(2006, 5, 20, 13, 50, 11), datetime.datetime(2006, 5, 20, 13, 50, 26), datetime.datetime(2006, 5, 20, 13, 50, 42), datetime.datetime(2006, 5, 20, 13, 50, 57), datetime.datetime(2006, 5, 20, 13, 51, 12), datetime.datetime(2006, 5, 20, 13, 51, 27), datetime.datetime(2006, 5, 20, 13, 51, 42), datetime.datetime(2006, 5, 20, 13, 51, 57), datetime.datetime(2006, 5, 20, 13, 52, 12), datetime.datetime(2006, 5, 20, 13, 52, 27), datetime.datetime(2006, 5, 20, 13, 52, 42), datetime.datetime(2006, 5, 20, 13, 52, 57), datetime.datetime(2006, 5, 20, 13, 53, 12), datetime.datetime(2006, 5, 20, 13, 53, 27), datetime.datetime(2006, 5, 20, 13, 53, 42), datetime.datetime(2006, 5, 20, 13, 53, 57), datetime.datetime(2006, 5, 20, 13, 54, 12), datetime.datetime(2006, 5, 20, 13, 54, 27), datetime.datetime(2006, 5, 20, 13, 54, 42), datetime.datetime(2006, 5, 20, 13, 54, 57), datetime.datetime(2006, 5, 20, 13, 55, 12), datetime.datetime(2006, 5, 20, 13, 55, 27), datetime.datetime(2006, 5, 20, 13, 55, 42), datetime.datetime(2006, 5, 20, 13, 55, 57), datetime.datetime(2006, 5, 20, 13, 56, 12), datetime.datetime(2006, 5, 20, 13, 56, 27), datetime.datetime(2006, 5, 20, 13, 56, 42), datetime.datetime(2006, 5, 20, 13, 56, 57), datetime.datetime(2006, 5, 20, 13, 57, 12), datetime.datetime(2006, 5, 20, 13, 57, 27), datetime.datetime(2006, 5, 20, 13, 57, 42), datetime.datetime(2006, 5, 20, 13, 57, 57), datetime.datetime(2006, 5, 20, 13, 58, 12), datetime.datetime(2006, 5, 20, 13, 58, 27), datetime.datetime(2006, 5, 20, 13, 58, 42), datetime.datetime(2006, 5, 20, 13, 58, 57), datetime.datetime(2006, 5, 20, 13, 59, 12), datetime.datetime(2006, 5, 20, 13, 59, 27), datetime.datetime(2006, 5, 20, 13, 59, 42), datetime.datetime(2006, 5, 20, 13, 59, 57), datetime.datetime(2006, 5, 20, 14, 0, 12), datetime.datetime(2006, 5, 20, 14, 0, 27), datetime.datetime(2006, 5, 20, 14, 0, 42), datetime.datetime(2006, 5, 20, 14, 0, 57), datetime.datetime(2006, 5, 20, 14, 1, 12), datetime.datetime(2006, 5, 20, 14, 1, 27), datetime.datetime(2006, 5, 20, 14, 1, 42), datetime.datetime(2006, 5, 20, 14, 1, 57), datetime.datetime(2006, 5, 20, 14, 2, 12), datetime.datetime(2006, 5, 20, 14, 2, 27), datetime.datetime(2006, 5, 20, 14, 2, 42), datetime.datetime(2006, 5, 20, 14, 2, 57), datetime.datetime(2006, 5, 20, 14, 3, 12), datetime.datetime(2006, 5, 20, 14, 3, 27), datetime.datetime(2006, 5, 20, 14, 3, 42), datetime.datetime(2006, 5, 20, 14, 3, 57), datetime.datetime(2006, 5, 20, 14, 4, 12), datetime.datetime(2006, 5, 20, 14, 4, 27), datetime.datetime(2006, 5, 20, 14, 4, 42), datetime.datetime(2006, 5, 20, 14, 4, 57), datetime.datetime(2006, 5, 20, 14, 5, 12), datetime.datetime(2006, 5, 20, 14, 5, 27), datetime.datetime(2006, 5, 20, 14, 5, 42), datetime.datetime(2006, 5, 20, 14, 5, 57), datetime.datetime(2006, 5, 20, 14, 6, 12), datetime.datetime(2006, 5, 20, 14, 6, 27), datetime.datetime(2006, 5, 20, 14, 6, 42), datetime.datetime(2006, 5, 20, 14, 6, 57), datetime.datetime(2006, 5, 20, 14, 7, 12), datetime.datetime(2006, 5, 20, 14, 7, 27), datetime.datetime(2006, 5, 20, 14, 7, 42), datetime.datetime(2006, 5, 20, 14, 7, 57), datetime.datetime(2006, 5, 20, 14, 8, 12), datetime.datetime(2006, 5, 20, 14, 8, 27), datetime.datetime(2006, 5, 20, 14, 8, 42), datetime.datetime(2006, 5, 20, 14, 8, 57), datetime.datetime(2006, 5, 20, 14, 9, 12), datetime.datetime(2006, 5, 20, 14, 9, 27), datetime.datetime(2006, 5, 20, 14, 9, 42), datetime.datetime(2006, 5, 20, 14, 9, 57), datetime.datetime(2006, 5, 20, 14, 10, 12), datetime.datetime(2006, 5, 20, 14, 10, 27), datetime.datetime(2006, 5, 20, 14, 10, 42), datetime.datetime(2006, 5, 20, 14, 10, 57), datetime.datetime(2006, 5, 20, 14, 11, 12), datetime.datetime(2006, 5, 20, 14, 11, 27), datetime.datetime(2006, 5, 20, 14, 11, 42), datetime.datetime(2006, 5, 20, 14, 11, 57), datetime.datetime(2006, 5, 20, 14, 12, 12), datetime.datetime(2006, 5, 20, 14, 12, 27), datetime.datetime(2006, 5, 20, 14, 12, 42), datetime.datetime(2006, 5, 20, 14, 12, 57), datetime.datetime(2006, 5, 20, 14, 13, 12), datetime.datetime(2006, 5, 20, 14, 13, 27), datetime.datetime(2006, 5, 20, 14, 13, 42), datetime.datetime(2006, 5, 20, 14, 13, 57), datetime.datetime(2006, 5, 20, 14, 14, 12), datetime.datetime(2006, 5, 20, 14, 14, 27), datetime.datetime(2006, 5, 20, 14, 14, 42), datetime.datetime(2006, 5, 20, 14, 14, 57), datetime.datetime(2006, 5, 20, 14, 15, 12), datetime.datetime(2006, 5, 20, 14, 15, 27), datetime.datetime(2006, 5, 20, 14, 15, 42), datetime.datetime(2006, 5, 20, 14, 15, 57), datetime.datetime(2006, 5, 20, 14, 16, 12), datetime.datetime(2006, 5, 20, 14, 16, 27), datetime.datetime(2006, 5, 20, 14, 16, 42), datetime.datetime(2006, 5, 20, 14, 16, 57), datetime.datetime(2006, 5, 20, 14, 17, 12), datetime.datetime(2006, 5, 20, 14, 17, 27), datetime.datetime(2006, 5, 20, 14, 17, 42), datetime.datetime(2006, 5, 20, 14, 17, 57), datetime.datetime(2006, 5, 20, 14, 18, 12), datetime.datetime(2006, 5, 20, 14, 18, 27), datetime.datetime(2006, 5, 20, 14, 18, 42), datetime.datetime(2006, 5, 20, 14, 18, 57), datetime.datetime(2006, 5, 20, 14, 19, 12), datetime.datetime(2006, 5, 20, 14, 19, 27), datetime.datetime(2006, 5, 20, 14, 19, 42), datetime.datetime(2006, 5, 20, 14, 19, 57), datetime.datetime(2006, 5, 20, 14, 20, 12), datetime.datetime(2006, 5, 20, 14, 20, 27), datetime.datetime(2006, 5, 20, 14, 20, 42), datetime.datetime(2006, 5, 20, 14, 20, 57), datetime.datetime(2006, 5, 20, 14, 21, 12), datetime.datetime(2006, 5, 20, 14, 21, 27), datetime.datetime(2006, 5, 20, 14, 21, 42), datetime.datetime(2006, 5, 20, 14, 21, 57), datetime.datetime(2006, 5, 20, 14, 22, 12), datetime.datetime(2006, 5, 20, 14, 22, 27), datetime.datetime(2006, 5, 20, 14, 22, 42), datetime.datetime(2006, 5, 20, 14, 22, 57), datetime.datetime(2006, 5, 20, 14, 23, 13), datetime.datetime(2006, 5, 20, 14, 23, 28), datetime.datetime(2006, 5, 20, 14, 23, 43), datetime.datetime(2006, 5, 20, 14, 23, 58), datetime.datetime(2006, 5, 20, 14, 24, 13), datetime.datetime(2006, 5, 20, 14, 24, 28), datetime.datetime(2006, 5, 20, 14, 24, 43), datetime.datetime(2006, 5, 20, 14, 24, 58), datetime.datetime(2006, 5, 20, 14, 25, 13), datetime.datetime(2006, 5, 20, 14, 25, 28), datetime.datetime(2006, 5, 20, 14, 25, 43), datetime.datetime(2006, 5, 20, 14, 25, 58), datetime.datetime(2006, 5, 20, 14, 26, 13), datetime.datetime(2006, 5, 20, 14, 26, 28), datetime.datetime(2006, 5, 20, 14, 26, 43), datetime.datetime(2006, 5, 20, 14, 26, 58), datetime.datetime(2006, 5, 20, 14, 27, 13), datetime.datetime(2006, 5, 20, 14, 27, 28), datetime.datetime(2006, 5, 20, 14, 27, 43), datetime.datetime(2006, 5, 20, 14, 27, 58), datetime.datetime(2006, 5, 20, 14, 28, 13), datetime.datetime(2006, 5, 20, 14, 28, 28), datetime.datetime(2006, 5, 20, 14, 28, 43), datetime.datetime(2006, 5, 20, 14, 28, 58), datetime.datetime(2006, 5, 20, 14, 29, 13), datetime.datetime(2006, 5, 20, 14, 29, 28), datetime.datetime(2006, 5, 20, 14, 29, 43), datetime.datetime(2006, 5, 20, 14, 29, 58), datetime.datetime(2006, 5, 20, 14, 30, 13), datetime.datetime(2006, 5, 20, 14, 30, 28), datetime.datetime(2006, 5, 20, 14, 30, 43), datetime.datetime(2006, 5, 20, 14, 30, 58), datetime.datetime(2006, 5, 20, 14, 31, 13), datetime.datetime(2006, 5, 20, 14, 31, 28), datetime.datetime(2006, 5, 20, 14, 31, 43), datetime.datetime(2006, 5, 20, 14, 31, 58), datetime.datetime(2006, 5, 20, 14, 32, 13), datetime.datetime(2006, 5, 20, 14, 32, 28), datetime.datetime(2006, 5, 20, 14, 32, 43), datetime.datetime(2006, 5, 20, 14, 32, 58), datetime.datetime(2006, 5, 20, 14, 33, 13), datetime.datetime(2006, 5, 20, 14, 33, 28), datetime.datetime(2006, 5, 20, 14, 33, 43), datetime.datetime(2006, 5, 20, 14, 33, 58), datetime.datetime(2006, 5, 20, 14, 34, 13), datetime.datetime(2006, 5, 20, 14, 34, 28), datetime.datetime(2006, 5, 20, 14, 34, 43), datetime.datetime(2006, 5, 20, 14, 34, 58), datetime.datetime(2006, 5, 20, 14, 35, 13), datetime.datetime(2006, 5, 20, 14, 35, 28), datetime.datetime(2006, 5, 20, 14, 35, 43), datetime.datetime(2006, 5, 20, 14, 35, 58), datetime.datetime(2006, 5, 20, 14, 36, 13), datetime.datetime(2006, 5, 20, 14, 36, 28), datetime.datetime(2006, 5, 20, 14, 36, 43), datetime.datetime(2006, 5, 20, 14, 36, 58), datetime.datetime(2006, 5, 20, 14, 37, 13), datetime.datetime(2006, 5, 20, 14, 37, 28), datetime.datetime(2006, 5, 20, 14, 37, 43), datetime.datetime(2006, 5, 20, 14, 37, 58), datetime.datetime(2006, 5, 20, 14, 38, 13), datetime.datetime(2006, 5, 20, 14, 38, 28), datetime.datetime(2006, 5, 20, 14, 38, 43), datetime.datetime(2006, 5, 20, 14, 38, 58), datetime.datetime(2006, 5, 20, 14, 39, 14), datetime.datetime(2006, 5, 20, 14, 39, 29), datetime.datetime(2006, 5, 20, 14, 39, 44), datetime.datetime(2006, 5, 20, 14, 39, 59), datetime.datetime(2006, 5, 20, 14, 40, 14), datetime.datetime(2006, 5, 20, 14, 40, 29), datetime.datetime(2006, 5, 20, 14, 40, 44), datetime.datetime(2006, 5, 20, 14, 40, 59), datetime.datetime(2006, 5, 20, 14, 41, 14), datetime.datetime(2006, 5, 20, 14, 41, 29), datetime.datetime(2006, 5, 20, 14, 41, 44), datetime.datetime(2006, 5, 20, 14, 41, 59), datetime.datetime(2006, 5, 20, 14, 42, 15), datetime.datetime(2006, 5, 20, 14, 42, 30), datetime.datetime(2006, 5, 20, 14, 42, 45), datetime.datetime(2006, 5, 20, 14, 43), datetime.datetime(2006, 5, 20, 14, 43, 15), datetime.datetime(2006, 5, 20, 14, 43, 30), datetime.datetime(2006, 5, 20, 14, 43, 45), datetime.datetime(2006, 5, 20, 14, 44), datetime.datetime(2006, 5, 20, 14, 44, 15), datetime.datetime(2006, 5, 20, 14, 44, 30), datetime.datetime(2006, 5, 20, 14, 44, 45), datetime.datetime(2006, 5, 20, 14, 45), datetime.datetime(2006, 5, 20, 14, 45, 15), datetime.datetime(2006, 5, 20, 14, 45, 30), datetime.datetime(2006, 5, 20, 14, 45, 45), datetime.datetime(2006, 5, 20, 14, 46), datetime.datetime(2006, 5, 20, 14, 46, 15), datetime.datetime(2006, 5, 20, 14, 46, 30), datetime.datetime(2006, 5, 20, 14, 46, 45), datetime.datetime(2006, 5, 20, 14, 47), datetime.datetime(2006, 5, 20, 14, 47, 15), datetime.datetime(2006, 5, 20, 14, 47, 30), datetime.datetime(2006, 5, 20, 14, 47, 45), datetime.datetime(2006, 5, 20, 14, 48), datetime.datetime(2006, 5, 20, 14, 48, 15), datetime.datetime(2006, 5, 20, 14, 48, 30), datetime.datetime(2006, 5, 20, 14, 48, 45), datetime.datetime(2006, 5, 20, 14, 49), datetime.datetime(2006, 5, 20, 14, 49, 15), datetime.datetime(2006, 5, 20, 14, 49, 30), datetime.datetime(2006, 5, 20, 14, 49, 45), datetime.datetime(2006, 5, 20, 14, 50), datetime.datetime(2006, 5, 20, 14, 50, 15), datetime.datetime(2006, 5, 20, 14, 50, 30), datetime.datetime(2006, 5, 20, 14, 50, 45), datetime.datetime(2006, 5, 20, 14, 51), datetime.datetime(2006, 5, 20, 14, 51, 15), datetime.datetime(2006, 5, 20, 14, 51, 30), datetime.datetime(2006, 5, 20, 14, 51, 45), datetime.datetime(2006, 5, 20, 14, 52), datetime.datetime(2006, 5, 20, 14, 52, 15), datetime.datetime(2006, 5, 20, 14, 52, 30), datetime.datetime(2006, 5, 20, 14, 52, 45), datetime.datetime(2006, 5, 20, 14, 53, 1), datetime.datetime(2006, 5, 20, 14, 53, 16), datetime.datetime(2006, 5, 20, 14, 53, 31), datetime.datetime(2006, 5, 20, 14, 53, 46), datetime.datetime(2006, 5, 20, 14, 54, 1), datetime.datetime(2006, 5, 20, 14, 54, 16), datetime.datetime(2006, 5, 20, 14, 54, 31), datetime.datetime(2006, 5, 20, 14, 54, 46), datetime.datetime(2006, 5, 20, 14, 55, 1), datetime.datetime(2006, 5, 20, 14, 55, 16), datetime.datetime(2006, 5, 20, 14, 55, 31), datetime.datetime(2006, 5, 20, 14, 55, 46), datetime.datetime(2006, 5, 20, 14, 56, 1), datetime.datetime(2006, 5, 20, 14, 56, 16), datetime.datetime(2006, 5, 20, 14, 56, 31), datetime.datetime(2006, 5, 20, 14, 56, 46), datetime.datetime(2006, 5, 20, 14, 57, 1), datetime.datetime(2006, 5, 20, 14, 57, 16), datetime.datetime(2006, 5, 20, 14, 57, 31), datetime.datetime(2006, 5, 20, 14, 57, 46), datetime.datetime(2006, 5, 20, 14, 58, 1), datetime.datetime(2006, 5, 20, 14, 58, 16), datetime.datetime(2006, 5, 20, 14, 58, 31), datetime.datetime(2006, 5, 20, 14, 58, 46), datetime.datetime(2006, 5, 20, 14, 59, 1), datetime.datetime(2006, 5, 20, 14, 59, 16), datetime.datetime(2006, 5, 20, 14, 59, 31), datetime.datetime(2006, 5, 20, 14, 59, 46), datetime.datetime(2006, 5, 20, 15, 0, 1), datetime.datetime(2006, 5, 20, 15, 0, 16), datetime.datetime(2006, 5, 20, 15, 0, 31), datetime.datetime(2006, 5, 20, 15, 0, 46), datetime.datetime(2006, 5, 20, 15, 1, 1), datetime.datetime(2006, 5, 20, 15, 1, 16), datetime.datetime(2006, 5, 20, 15, 1, 31), datetime.datetime(2006, 5, 20, 15, 1, 46), datetime.datetime(2006, 5, 20, 15, 2, 1), datetime.datetime(2006, 5, 20, 15, 2, 16), datetime.datetime(2006, 5, 20, 15, 2, 31), datetime.datetime(2006, 5, 20, 15, 2, 46), datetime.datetime(2006, 5, 20, 15, 3, 1), datetime.datetime(2006, 5, 20, 15, 3, 16), datetime.datetime(2006, 5, 20, 15, 3, 31), datetime.datetime(2006, 5, 20, 15, 3, 46), datetime.datetime(2006, 5, 20, 15, 4, 1), datetime.datetime(2006, 5, 20, 15, 4, 16), datetime.datetime(2006, 5, 20, 15, 4, 31), datetime.datetime(2006, 5, 20, 15, 4, 46), datetime.datetime(2006, 5, 20, 15, 5, 1), datetime.datetime(2006, 5, 20, 15, 5, 16), datetime.datetime(2006, 5, 20, 15, 5, 31), datetime.datetime(2006, 5, 20, 15, 5, 46), datetime.datetime(2006, 5, 20, 15, 6, 1), datetime.datetime(2006, 5, 20, 15, 6, 16), datetime.datetime(2006, 5, 20, 15, 6, 31), datetime.datetime(2006, 5, 20, 15, 6, 46), datetime.datetime(2006, 5, 20, 15, 7, 1), datetime.datetime(2006, 5, 20, 15, 7, 16), datetime.datetime(2006, 5, 20, 15, 7, 31), datetime.datetime(2006, 5, 20, 15, 7, 46), datetime.datetime(2006, 5, 20, 15, 8, 1), datetime.datetime(2006, 5, 20, 15, 8, 16), datetime.datetime(2006, 5, 20, 15, 8, 31), datetime.datetime(2006, 5, 20, 15, 8, 46), datetime.datetime(2006, 5, 20, 15, 9, 1), datetime.datetime(2006, 5, 20, 15, 9, 16), datetime.datetime(2006, 5, 20, 15, 9, 31), datetime.datetime(2006, 5, 20, 15, 9, 46), datetime.datetime(2006, 5, 20, 15, 10, 1), datetime.datetime(2006, 5, 20, 15, 10, 16), datetime.datetime(2006, 5, 20, 15, 10, 31), datetime.datetime(2006, 5, 20, 15, 10, 46), datetime.datetime(2006, 5, 20, 15, 11, 1), datetime.datetime(2006, 5, 20, 15, 11, 16), datetime.datetime(2006, 5, 20, 15, 11, 31), datetime.datetime(2006, 5, 20, 15, 11, 46), datetime.datetime(2006, 5, 20, 15, 12, 1), datetime.datetime(2006, 5, 20, 15, 12, 16), datetime.datetime(2006, 5, 20, 15, 12, 31), datetime.datetime(2006, 5, 20, 15, 12, 46), datetime.datetime(2006, 5, 20, 15, 13, 1), datetime.datetime(2006, 5, 20, 15, 13, 16), datetime.datetime(2006, 5, 20, 15, 13, 31), datetime.datetime(2006, 5, 20, 15, 13, 46), datetime.datetime(2006, 5, 20, 15, 14, 1), datetime.datetime(2006, 5, 20, 15, 14, 16), datetime.datetime(2006, 5, 20, 15, 14, 31), datetime.datetime(2006, 5, 20, 15, 14, 46), datetime.datetime(2006, 5, 20, 15, 15, 1), datetime.datetime(2006, 5, 20, 15, 15, 16), datetime.datetime(2006, 5, 20, 15, 15, 31), datetime.datetime(2006, 5, 20, 15, 15, 46), datetime.datetime(2006, 5, 20, 15, 16, 1), datetime.datetime(2006, 5, 20, 15, 16, 16), datetime.datetime(2006, 5, 20, 15, 16, 31), datetime.datetime(2006, 5, 20, 15, 16, 46), datetime.datetime(2006, 5, 20, 15, 17, 1), datetime.datetime(2006, 5, 20, 15, 17, 16), datetime.datetime(2006, 5, 20, 15, 17, 31), datetime.datetime(2006, 5, 20, 15, 17, 46), datetime.datetime(2006, 5, 20, 15, 18, 1), datetime.datetime(2006, 5, 20, 15, 18, 16), datetime.datetime(2006, 5, 20, 15, 18, 31), datetime.datetime(2006, 5, 20, 15, 18, 46), datetime.datetime(2006, 5, 20, 15, 19, 1), datetime.datetime(2006, 5, 20, 15, 19, 16), datetime.datetime(2006, 5, 20, 15, 19, 31), datetime.datetime(2006, 5, 20, 15, 19, 46), datetime.datetime(2006, 5, 20, 15, 20, 1), datetime.datetime(2006, 5, 20, 15, 20, 16), datetime.datetime(2006, 5, 20, 15, 20, 31), datetime.datetime(2006, 5, 20, 15, 20, 46), datetime.datetime(2006, 5, 20, 15, 21, 1), datetime.datetime(2006, 5, 20, 15, 21, 16), datetime.datetime(2006, 5, 20, 15, 21, 31), datetime.datetime(2006, 5, 20, 15, 21, 46), datetime.datetime(2006, 5, 20, 15, 22, 1), datetime.datetime(2006, 5, 20, 15, 22, 16), datetime.datetime(2006, 5, 20, 15, 22, 31), datetime.datetime(2006, 5, 20, 15, 22, 46), datetime.datetime(2006, 5, 20, 15, 23, 1), datetime.datetime(2006, 5, 20, 15, 23, 16), datetime.datetime(2006, 5, 20, 15, 23, 31), datetime.datetime(2006, 5, 20, 15, 23, 46), datetime.datetime(2006, 5, 20, 15, 24, 1), datetime.datetime(2006, 5, 20, 15, 24, 16), datetime.datetime(2006, 5, 20, 15, 24, 31), datetime.datetime(2006, 5, 20, 15, 24, 46), datetime.datetime(2006, 5, 20, 15, 25, 1), datetime.datetime(2006, 5, 20, 15, 25, 16), datetime.datetime(2006, 5, 20, 15, 25, 31), datetime.datetime(2006, 5, 20, 15, 25, 46), datetime.datetime(2006, 5, 20, 15, 26, 1), datetime.datetime(2006, 5, 20, 15, 26, 16), datetime.datetime(2006, 5, 20, 15, 26, 31), datetime.datetime(2006, 5, 20, 15, 26, 46), datetime.datetime(2006, 5, 20, 15, 27, 1), datetime.datetime(2006, 5, 20, 15, 27, 16), datetime.datetime(2006, 5, 20, 15, 27, 31), datetime.datetime(2006, 5, 20, 15, 27, 46), datetime.datetime(2006, 5, 20, 15, 28, 1), datetime.datetime(2006, 5, 20, 15, 28, 16), datetime.datetime(2006, 5, 20, 15, 28, 32), datetime.datetime(2006, 5, 20, 15, 28, 47), datetime.datetime(2006, 5, 20, 15, 29, 2), datetime.datetime(2006, 5, 20, 15, 29, 17), datetime.datetime(2006, 5, 20, 15, 29, 32), datetime.datetime(2006, 5, 20, 15, 29, 47), datetime.datetime(2006, 5, 20, 15, 30, 2), datetime.datetime(2006, 5, 20, 15, 30, 17), datetime.datetime(2006, 5, 20, 15, 30, 32), datetime.datetime(2006, 5, 20, 15, 30, 47), datetime.datetime(2006, 5, 20, 15, 31, 2), datetime.datetime(2006, 5, 20, 15, 31, 17), datetime.datetime(2006, 5, 20, 15, 31, 32), datetime.datetime(2006, 5, 20, 15, 31, 47), datetime.datetime(2006, 5, 20, 15, 31, 48)]\n"
     ]
    }
   ],
   "source": [
    "from datetime import datetime\n",
    "dates = list()\n",
    "f= open('GPS.dat')\n",
    "for line in f.readlines():  \n",
    "    data = line.split()          \n",
    "    if not data: continue         \n",
    "    if data[0] == 'Trackpoint':\n",
    "        s = data[5] + ' ' + data[6] + ' ' + data[7]\n",
    "        date_string= s\n",
    "        format = '%m/%d/%Y %I:%M:%S %p'\n",
    "        my_date = datetime.strptime(date_string, format)\n",
    "        dates.append(my_date)\n",
    "    elif data[1] =='LEGOLAS':\n",
    "        break\n",
    "\n",
    "print(dates)"
   ]
  },
  {
   "cell_type": "code",
   "execution_count": 206,
   "metadata": {
    "collapsed": false
   },
   "outputs": [
    {
     "name": "stdout",
     "output_type": "stream",
     "text": [
      "['N4249.822', 'N4249.820', 'N4249.821', 'N4249.824', 'N4249.825', 'N4249.824', 'N4249.821', 'N4249.821', 'N4249.821', 'N4249.816', 'N4249.807', 'N4249.794', 'N4249.784', 'N4249.776', 'N4249.781', 'N4249.786', 'N4249.780', 'N4249.767', 'N4249.750', 'N4249.735', 'N4249.719', 'N4249.701', 'N4249.683', 'N4249.668', 'N4249.652', 'N4249.637', 'N4249.623', 'N4249.611', 'N4249.600', 'N4249.585', 'N4249.574', 'N4249.562', 'N4249.549', 'N4249.536', 'N4249.525', 'N4249.513', 'N4249.499', 'N4249.486', 'N4249.473', 'N4249.463', 'N4249.452', 'N4249.436', 'N4249.422', 'N4249.412', 'N4249.401', 'N4249.388', 'N4249.377', 'N4249.365', 'N4249.354', 'N4249.342', 'N4249.329', 'N4249.318', 'N4249.307', 'N4249.297', 'N4249.287', 'N4249.276', 'N4249.264', 'N4249.252', 'N4249.244', 'N4249.237', 'N4249.226', 'N4249.217', 'N4249.208', 'N4249.199', 'N4249.191', 'N4249.182', 'N4249.170', 'N4249.159', 'N4249.154', 'N4249.154', 'N4249.153', 'N4249.145', 'N4249.136', 'N4249.125', 'N4249.112', 'N4249.099', 'N4249.091', 'N4249.087', 'N4249.082', 'N4249.072', 'N4249.060', 'N4249.051', 'N4249.045', 'N4249.041', 'N4249.036', 'N4249.024', 'N4249.010', 'N4248.998', 'N4248.987', 'N4248.976', 'N4248.962', 'N4248.947', 'N4248.931', 'N4248.916', 'N4248.902', 'N4248.885', 'N4248.868', 'N4248.852', 'N4248.835', 'N4248.821', 'N4248.807', 'N4248.796', 'N4248.788', 'N4248.785', 'N4248.778', 'N4248.772', 'N4248.773', 'N4248.778', 'N4248.786', 'N4248.791', 'N4248.792', 'N4248.790', 'N4248.785', 'N4248.777', 'N4248.768', 'N4248.763', 'N4248.761', 'N4248.764', 'N4248.772', 'N4248.778', 'N4248.786', 'N4248.792', 'N4248.799', 'N4248.805', 'N4248.813', 'N4248.818', 'N4248.823', 'N4248.830', 'N4248.836', 'N4248.844', 'N4248.850', 'N4248.857', 'N4248.861', 'N4248.864', 'N4248.866', 'N4248.872', 'N4248.885', 'N4248.895', 'N4248.900', 'N4248.906', 'N4248.916', 'N4248.921', 'N4248.913', 'N4248.903', 'N4248.893', 'N4248.886', 'N4248.880', 'N4248.871', 'N4248.867', 'N4248.868', 'N4248.876', 'N4248.879', 'N4248.877', 'N4248.876', 'N4248.875', 'N4248.873', 'N4248.873', 'N4248.872', 'N4248.872', 'N4248.871', 'N4248.871', 'N4248.871', 'N4248.872', 'N4248.872', 'N4248.872', 'N4248.872', 'N4248.872', 'N4248.873', 'N4248.873', 'N4248.873', 'N4248.873', 'N4248.875', 'N4248.875', 'N4248.875', 'N4248.876', 'N4248.876', 'N4248.876', 'N4248.876', 'N4248.877', 'N4248.877', 'N4248.879', 'N4248.879', 'N4248.879', 'N4248.880', 'N4248.880', 'N4248.880', 'N4248.880', 'N4248.880', 'N4248.881', 'N4248.881', 'N4248.881', 'N4248.881', 'N4248.881', 'N4248.882', 'N4248.882', 'N4248.881', 'N4248.882', 'N4248.888', 'N4248.898', 'N4248.907', 'N4248.908', 'N4248.915', 'N4248.920', 'N4248.922', 'N4248.926', 'N4248.930', 'N4248.934', 'N4248.939', 'N4248.942', 'N4248.942', 'N4248.934', 'N4248.926', 'N4248.922', 'N4248.921', 'N4248.921', 'N4248.920', 'N4248.919', 'N4248.917', 'N4248.916', 'N4248.915', 'N4248.913', 'N4248.912', 'N4248.911', 'N4248.910', 'N4248.908', 'N4248.906', 'N4248.904', 'N4248.902', 'N4248.900', 'N4248.899', 'N4248.897', 'N4248.895', 'N4248.894', 'N4248.893', 'N4248.890', 'N4248.890', 'N4248.889', 'N4248.888', 'N4248.886', 'N4248.885', 'N4248.884', 'N4248.882', 'N4248.881', 'N4248.880', 'N4248.879', 'N4248.879', 'N4248.877', 'N4248.876', 'N4248.875', 'N4248.873', 'N4248.872', 'N4248.871', 'N4248.870', 'N4248.867', 'N4248.866', 'N4248.864', 'N4248.863', 'N4248.862', 'N4248.861', 'N4248.859', 'N4248.858', 'N4248.857', 'N4248.855', 'N4248.854', 'N4248.853', 'N4248.852', 'N4248.850', 'N4248.849', 'N4248.848', 'N4248.846', 'N4248.845', 'N4248.844', 'N4248.843', 'N4248.840', 'N4248.839', 'N4248.837', 'N4248.835', 'N4248.834', 'N4248.832', 'N4248.831', 'N4248.830', 'N4248.828', 'N4248.827', 'N4248.826', 'N4248.825', 'N4248.823', 'N4248.822', 'N4248.822', 'N4248.821', 'N4248.819', 'N4248.818', 'N4248.817', 'N4248.816', 'N4248.814', 'N4248.812', 'N4248.810', 'N4248.809', 'N4248.808', 'N4248.805', 'N4248.804', 'N4248.803', 'N4248.801', 'N4248.800', 'N4248.799', 'N4248.797', 'N4248.796', 'N4248.794', 'N4248.792', 'N4248.791', 'N4248.790', 'N4248.790', 'N4248.788', 'N4248.786', 'N4248.786', 'N4248.785', 'N4248.783', 'N4248.782', 'N4248.781', 'N4248.779', 'N4248.779', 'N4248.778', 'N4248.776', 'N4248.774', 'N4248.773', 'N4248.772', 'N4248.770', 'N4248.769', 'N4248.768', 'N4248.767', 'N4248.765', 'N4248.764', 'N4248.763', 'N4248.760', 'N4248.759', 'N4248.758', 'N4248.756', 'N4248.755', 'N4248.754', 'N4248.752', 'N4248.751', 'N4248.749', 'N4248.747', 'N4248.746', 'N4248.745', 'N4248.743', 'N4248.742', 'N4248.742', 'N4248.740', 'N4248.738', 'N4248.737', 'N4248.736', 'N4248.734', 'N4248.733', 'N4248.732', 'N4248.731', 'N4248.729', 'N4248.728', 'N4248.727', 'N4248.724', 'N4248.723', 'N4248.722', 'N4248.720', 'N4248.719', 'N4248.718', 'N4248.716', 'N4248.715', 'N4248.714', 'N4248.713', 'N4248.711', 'N4248.709', 'N4248.707', 'N4248.706', 'N4248.705', 'N4248.704', 'N4248.701', 'N4248.700', 'N4248.698', 'N4248.697', 'N4248.696', 'N4248.694', 'N4248.693', 'N4248.692', 'N4248.691', 'N4248.688', 'N4248.687', 'N4248.685', 'N4248.684', 'N4248.683', 'N4248.680', 'N4248.679', 'N4248.678', 'N4248.676', 'N4248.675', 'N4248.673', 'N4248.671', 'N4248.670', 'N4248.669', 'N4248.666', 'N4248.665', 'N4248.664', 'N4248.662', 'N4248.660', 'N4248.658', 'N4248.657', 'N4248.656', 'N4248.653', 'N4248.652', 'N4248.651', 'N4248.649', 'N4248.648', 'N4248.647', 'N4248.646', 'N4248.644', 'N4248.643', 'N4248.640', 'N4248.639', 'N4248.638', 'N4248.637', 'N4248.635', 'N4248.634', 'N4248.633', 'N4248.631', 'N4248.630', 'N4248.629', 'N4248.628', 'N4248.626', 'N4248.625', 'N4248.624', 'N4248.622', 'N4248.621', 'N4248.620', 'N4248.619', 'N4248.616', 'N4248.615', 'N4248.613', 'N4248.612', 'N4248.611', 'N4248.610', 'N4248.608', 'N4248.607', 'N4248.606', 'N4248.604', 'N4248.603', 'N4248.602', 'N4248.601', 'N4248.598', 'N4248.597', 'N4248.595', 'N4248.594', 'N4248.593', 'N4248.590', 'N4248.589', 'N4248.588', 'N4248.588', 'N4248.593', 'N4248.602', 'N4248.608', 'N4248.607', 'N4248.606', 'N4248.606', 'N4248.606', 'N4248.602', 'N4248.598', 'N4248.595', 'N4248.595', 'N4248.597', 'N4248.598', 'N4248.599', 'N4248.601']\n"
     ]
    },
    {
     "ename": "IndexError",
     "evalue": "list index out of range",
     "output_type": "error",
     "traceback": [
      "\u001b[0;31m---------------------------------------------------------------------------\u001b[0m",
      "\u001b[0;31mIndexError\u001b[0m                                Traceback (most recent call last)",
      "\u001b[0;32m<ipython-input-206-7965f337ba10>\u001b[0m in \u001b[0;36m<module>\u001b[0;34m()\u001b[0m\n\u001b[1;32m     16\u001b[0m     \u001b[0mdata\u001b[0m \u001b[0;34m=\u001b[0m \u001b[0mline\u001b[0m\u001b[0;34m.\u001b[0m\u001b[0msplit\u001b[0m\u001b[0;34m(\u001b[0m\u001b[0;34m)\u001b[0m\u001b[0;34m\u001b[0m\u001b[0m\n\u001b[1;32m     17\u001b[0m     \u001b[0;32mif\u001b[0m \u001b[0;32mnot\u001b[0m \u001b[0mdata\u001b[0m\u001b[0;34m:\u001b[0m \u001b[0;32mcontinue\u001b[0m\u001b[0;34m\u001b[0m\u001b[0m\n\u001b[0;32m---> 18\u001b[0;31m     \u001b[0;32mif\u001b[0m \u001b[0mdata\u001b[0m\u001b[0;34m[\u001b[0m\u001b[0;36m5\u001b[0m\u001b[0;34m]\u001b[0m \u001b[0;34m==\u001b[0m \u001b[0;34m'5/20/2006'\u001b[0m\u001b[0;34m:\u001b[0m \u001b[0;32mcontinue\u001b[0m\u001b[0;34m\u001b[0m\u001b[0m\n\u001b[0m\u001b[1;32m     19\u001b[0m     \u001b[0;32mif\u001b[0m \u001b[0mdata\u001b[0m\u001b[0;34m[\u001b[0m\u001b[0;36m0\u001b[0m\u001b[0;34m]\u001b[0m \u001b[0;34m==\u001b[0m \u001b[0;34m'Trackpoint'\u001b[0m\u001b[0;34m:\u001b[0m\u001b[0;34m\u001b[0m\u001b[0m\n\u001b[1;32m     20\u001b[0m         \u001b[0mlat\u001b[0m \u001b[0;34m=\u001b[0m \u001b[0mdata\u001b[0m\u001b[0;34m[\u001b[0m\u001b[0;36m1\u001b[0m\u001b[0;34m]\u001b[0m \u001b[0;34m+\u001b[0m \u001b[0;34m''\u001b[0m \u001b[0;34m+\u001b[0m \u001b[0mdata\u001b[0m\u001b[0;34m[\u001b[0m\u001b[0;36m2\u001b[0m\u001b[0;34m]\u001b[0m\u001b[0;34m\u001b[0m\u001b[0m\n",
      "\u001b[0;31mIndexError\u001b[0m: list index out of range"
     ]
    }
   ],
   "source": [
    "f.seek(0)\n",
    "latitude = list()\n",
    "for line in f.readlines():  \n",
    "    data = line.split()          \n",
    "    if not data: continue         \n",
    "    if data[0] == 'Trackpoint':\n",
    "        lat = data[1] + '' + data[2]\n",
    "        latitude.append(lat)\n",
    "#    elif data[1] =='LEGOLAS':\n",
    "#        break\n",
    "print(latitude)\n",
    "   \n",
    "f.seek(0)\n",
    "longitude = list()\n",
    "for line in f.readlines():  \n",
    "    data = line.split()          \n",
    "    if not data: continue         \n",
    "    if data[0] == 'Trackpoint':\n",
    "        lon = data[3] + '' + data[4]\n",
    "        longitude.append(lon)\n",
    "        \n",
    "print(longitude)\n",
    "\n",
    "f.seek(0)\n",
    "speed = list()\n",
    "for line in f.readlines():  \n",
    "    data = line.split()          \n",
    "    if not data: continue         \n",
    "    if data[0] == 'Trackpoint':\n",
    "        spd = Leg Speed  ### no idea how to get leg speed into the list\n",
    "        speed.append(spd)\n",
    "\n",
    "print(speed)\n",
    "    \n",
    "#f.seek(0)      \n",
    "#legolaslatitude = list()        \n",
    "#for line in f.readlines():\n",
    "#    data = line.split()      \n",
    "#    if not data: continue\n",
    "#    if data[0] == 'Trackpoint':   \n",
    "#        lat = data[1] + '' + data[2]\n",
    "#        legolaslatitude.append(lat)\n",
    "#    elif data[1] =='MERIADOC':\n",
    "#        break    \n",
    "\n",
    "#print(legolaslatitude)\n",
    "\n",
    "#need help making separate lists of location, speed for each tracker"
   ]
  },
  {
   "cell_type": "code",
   "execution_count": 253,
   "metadata": {
    "collapsed": false,
    "scrolled": true
   },
   "outputs": [
    {
     "name": "stdout",
     "output_type": "stream",
     "text": [
      "[0.5, -0.020833333333333332, 0.00026041666666666666, -1.5500992063492063e-06, 5.382288910934745e-09, -1.2232474797578965e-11]\n",
      "0.4794255386041834\n",
      "[0.5, -0.020833333333333332, 0.00026041666666666666, -1.5500992063492063e-06, 5.382288910934745e-09, -1.2232474797578965e-11, 1.9603324996120133e-14]\n",
      "0.479425538604203\n",
      "[0.5, -0.020833333333333332, 0.00026041666666666666, -1.5500992063492063e-06, 5.382288910934745e-09, -1.2232474797578965e-11, 1.9603324996120133e-14, -2.333729166204778e-17]\n",
      "0.479425538604203\n",
      "[0.5, -0.020833333333333332, 0.00026041666666666666, -1.5500992063492063e-06, 5.382288910934745e-09, -1.2232474797578965e-11, 1.9603324996120133e-14, -2.333729166204778e-17, 2.1449716601146855e-20]\n",
      "0.479425538604203\n",
      "The function plateaus off at k=7\n"
     ]
    }
   ],
   "source": [
    "k=5\n",
    "\n",
    "def factorial(k):\n",
    "    if k == 0:\n",
    "        return 1\n",
    "    else:\n",
    "        return k * factorial(k-1)\n",
    "\n",
    "def sinx(x):\n",
    "    sintable = list()\n",
    "    for i in range(0,k+1,1):\n",
    "        tterm = ((-1)**-i)*x**(1+(2*i))/factorial(1+(2*i))\n",
    "        sintable.append(tterm)\n",
    "    taylor = sum(sintable)\n",
    "    print(sintable)\n",
    "    return taylor\n",
    "\n",
    "print(sinx(0.5))\n",
    "k=6\n",
    "print(sinx(0.5))\n",
    "k=7\n",
    "print(sinx(0.5))\n",
    "k=8\n",
    "print(sinx(0.5))\n",
    "\n",
    "print('The function plateaus off at k=6')"
   ]
  }
 ],
 "metadata": {
  "kernelspec": {
   "display_name": "Python 3",
   "language": "python",
   "name": "python3"
  },
  "language_info": {
   "codemirror_mode": {
    "name": "ipython",
    "version": 3
   },
   "file_extension": ".py",
   "mimetype": "text/x-python",
   "name": "python",
   "nbconvert_exporter": "python",
   "pygments_lexer": "ipython3",
   "version": "3.5.1"
  }
 },
 "nbformat": 4,
 "nbformat_minor": 0
}
